{
 "cells": [
  {
   "cell_type": "code",
   "execution_count": 1,
   "metadata": {},
   "outputs": [],
   "source": [
    "import os\n",
    "import pandas as pd\n",
    "import numpy as np\n",
    "import matplotlib.pyplot as plt\n",
    "from sklearn.neighbors  import KNeighborsRegressor as knr\n",
    "import seaborn as sns\n",
    "from random import randrange, uniform"
   ]
  },
  {
   "cell_type": "code",
   "execution_count": 2,
   "metadata": {},
   "outputs": [],
   "source": [
    "#Set working directory\n",
    "os.chdir(\"C:\\\\Users\\sonij\\Documents\\DS-pro-1\")"
   ]
  },
  {
   "cell_type": "code",
   "execution_count": 3,
   "metadata": {},
   "outputs": [],
   "source": [
    "#Load data\n",
    "bank_train = pd.read_csv(\"bank-loan.csv\")\n",
    "bank_data = bank_train[:700]"
   ]
  },
  {
   "cell_type": "markdown",
   "metadata": {},
   "source": [
    "## Missing Value Analysis\n"
   ]
  },
  {
   "cell_type": "code",
   "execution_count": 41,
   "metadata": {},
   "outputs": [
    {
     "data": {
      "text/html": [
       "<div>\n",
       "<style scoped>\n",
       "    .dataframe tbody tr th:only-of-type {\n",
       "        vertical-align: middle;\n",
       "    }\n",
       "\n",
       "    .dataframe tbody tr th {\n",
       "        vertical-align: top;\n",
       "    }\n",
       "\n",
       "    .dataframe thead th {\n",
       "        text-align: right;\n",
       "    }\n",
       "</style>\n",
       "<table border=\"1\" class=\"dataframe\">\n",
       "  <thead>\n",
       "    <tr style=\"text-align: right;\">\n",
       "      <th></th>\n",
       "      <th>0</th>\n",
       "    </tr>\n",
       "  </thead>\n",
       "  <tbody>\n",
       "    <tr>\n",
       "      <td>age</td>\n",
       "      <td>0</td>\n",
       "    </tr>\n",
       "    <tr>\n",
       "      <td>ed</td>\n",
       "      <td>0</td>\n",
       "    </tr>\n",
       "    <tr>\n",
       "      <td>employ</td>\n",
       "      <td>0</td>\n",
       "    </tr>\n",
       "    <tr>\n",
       "      <td>address</td>\n",
       "      <td>0</td>\n",
       "    </tr>\n",
       "    <tr>\n",
       "      <td>income</td>\n",
       "      <td>0</td>\n",
       "    </tr>\n",
       "    <tr>\n",
       "      <td>debtinc</td>\n",
       "      <td>0</td>\n",
       "    </tr>\n",
       "    <tr>\n",
       "      <td>default</td>\n",
       "      <td>0</td>\n",
       "    </tr>\n",
       "  </tbody>\n",
       "</table>\n",
       "</div>"
      ],
      "text/plain": [
       "         0\n",
       "age      0\n",
       "ed       0\n",
       "employ   0\n",
       "address  0\n",
       "income   0\n",
       "debtinc  0\n",
       "default  0"
      ]
     },
     "execution_count": 41,
     "metadata": {},
     "output_type": "execute_result"
    }
   ],
   "source": [
    "missing_val = pd.DataFrame(bank_data.isnull().sum())\n",
    "#Here we Detected that there is no  missing value in any varible\n",
    "#SO we are not gonna skip these method here"
   ]
  },
  {
   "cell_type": "markdown",
   "metadata": {
    "collapsed": true
   },
   "source": [
    "## Outlier Analysis"
   ]
  },
  {
   "cell_type": "code",
   "execution_count": 5,
   "metadata": {
    "scrolled": true
   },
   "outputs": [],
   "source": [
    "#%matplotlib inline \n",
    "#plt.hist(bank_data['income'])"
   ]
  },
  {
   "cell_type": "code",
   "execution_count": 6,
   "metadata": {},
   "outputs": [],
   "source": [
    "#save numeric continues names that can \n",
    "cnames = [\"age\",\"employ\",\"income\",\"debtinc\",\"creddebt\",\"othdebt\"]"
   ]
  },
  {
   "cell_type": "code",
   "execution_count": 7,
   "metadata": {},
   "outputs": [],
   "source": [
    "#Detect and delete outliers from data\n",
    "for i in cnames:\n",
    "    #print(i)\n",
    "    q75, q25 = np.percentile(bank_data.loc[:,i], [75 ,25])\n",
    "    iqr = q75 - q25\n",
    "\n",
    "    min = q25 - (iqr*1.5)\n",
    "    max = q75 + (iqr*1.5)\n",
    "    #print(min)\n",
    "    #print(max)\n",
    "  \n",
    "    bank_data = bank_data.drop(bank_data[bank_data.loc[:,i] < min].index)\n",
    "    bank_data = bank_data.drop(bank_data[bank_data.loc[:,i] > max].index)"
   ]
  },
  {
   "cell_type": "code",
   "execution_count": 8,
   "metadata": {},
   "outputs": [],
   "source": [
    "#missing_val = pd.DataFrame(train_data.isnull().sum())\n",
    "#Here we Detected that there is no  missing value in any varible"
   ]
  },
  {
   "cell_type": "markdown",
   "metadata": {},
   "source": [
    "## Feature Selection"
   ]
  },
  {
   "cell_type": "code",
   "execution_count": 9,
   "metadata": {},
   "outputs": [],
   "source": [
    "#Correlation analysis\n",
    "#Correlation plot\n",
    "df_corr = bank_data.loc[:,cnames]"
   ]
  },
  {
   "cell_type": "code",
   "execution_count": 10,
   "metadata": {},
   "outputs": [
    {
     "data": {
      "text/plain": [
       "<matplotlib.axes._subplots.AxesSubplot at 0x1a8f13cb608>"
      ]
     },
     "execution_count": 10,
     "metadata": {},
     "output_type": "execute_result"
    },
    {
     "data": {
      "image/png": "[encoded data removed]",
      "text/plain": [
       "<Figure size 504x360 with 2 Axes>"
      ]
     },
     "metadata": {
      "needs_background": "light"
     },
     "output_type": "display_data"
    }
   ],
   "source": [
    "#Set the width and hieght of the plot\n",
    "f, ax = plt.subplots(figsize=(7, 5))\n",
    "\n",
    "#Generate correlation matrix\n",
    "corr = df_corr.corr()\n",
    "\n",
    "#Plot using seaborn library\n",
    "sns.heatmap(corr, mask=np.zeros_like(corr, dtype=np.bool), cmap=sns.diverging_palette(220, 10, as_cmap=True),\n",
    "            square=True, ax=ax)"
   ]
  },
  {
   "cell_type": "code",
   "execution_count": 11,
   "metadata": {},
   "outputs": [],
   "source": [
    "bank_data = bank_data.drop(['othdebt', 'creddebt'], axis=1)"
   ]
  },
  {
   "cell_type": "markdown",
   "metadata": {},
   "source": [
    "## Feature Scaling"
   ]
  },
  {
   "cell_type": "code",
   "execution_count": 12,
   "metadata": {},
   "outputs": [],
   "source": [
    "#save numeric continues names that can \n",
    "cnames = [\"age\",\"employ\", \"income\", \"address\", \"debtinc\"]"
   ]
  },
  {
   "cell_type": "code",
   "execution_count": 13,
   "metadata": {},
   "outputs": [],
   "source": [
    "# #Normality check\n",
    "# %matplotlib inline  \n",
    "# plt.hist(bank_data['debtinc'], bins='auto')"
   ]
  },
  {
   "cell_type": "code",
   "execution_count": 14,
   "metadata": {},
   "outputs": [],
   "source": [
    "for i in cnames:\n",
    "    bank_data[i] = pd.to_numeric(bank_data[i], downcast='float')"
   ]
  },
  {
   "cell_type": "code",
   "execution_count": 15,
   "metadata": {},
   "outputs": [],
   "source": [
    "#Nomalisation\n",
    "for i in cnames:\n",
    "    #print(i)\n",
    "    min = bank_data[i].min()\n",
    "    max = bank_data[i].max()\n",
    "    bank_data[i] = (bank_data[i] - min)/( max - min )"
   ]
  },
  {
   "cell_type": "code",
   "execution_count": 16,
   "metadata": {},
   "outputs": [],
   "source": [
    "#Standarisation\n",
    "for i in cnames:\n",
    "    #print(i)\n",
    "    bank_data[i] = (bank_data[i] - bank_data[i].mean())/bank_data[i].std()"
   ]
  },
  {
   "cell_type": "markdown",
   "metadata": {},
   "source": [
    "## Sampling Techniques"
   ]
  },
  {
   "cell_type": "markdown",
   "metadata": {},
   "source": [
    "## Apply ML Modal"
   ]
  },
  {
   "cell_type": "markdown",
   "metadata": {},
   "source": [
    "###### Logistic Regression"
   ]
  },
  {
   "cell_type": "code",
   "execution_count": 17,
   "metadata": {},
   "outputs": [],
   "source": [
    "training_data_logic = pd.DataFrame(bank_data[\"default\"])"
   ]
  },
  {
   "cell_type": "code",
   "execution_count": 18,
   "metadata": {},
   "outputs": [],
   "source": [
    "training_data_logic = training_data_logic.join(bank_data[cnames])"
   ]
  },
  {
   "cell_type": "code",
   "execution_count": 19,
   "metadata": {},
   "outputs": [],
   "source": [
    "cat_names = [\"ed\"]"
   ]
  },
  {
   "cell_type": "code",
   "execution_count": 20,
   "metadata": {},
   "outputs": [],
   "source": [
    "for i in cat_names:\n",
    "        temp = pd.get_dummies(bank_data[i], prefix = i)\n",
    "        training_data_logic = training_data_logic.join(temp)"
   ]
  },
  {
   "cell_type": "code",
   "execution_count": 21,
   "metadata": {},
   "outputs": [],
   "source": [
    "Sample_Index = np.random.rand(len(training_data_logic)) < 0.8\n",
    "\n",
    "train = training_data_logic[Sample_Index]\n",
    "test = training_data_logic[~Sample_Index]"
   ]
  },
  {
   "cell_type": "code",
   "execution_count": 22,
   "metadata": {},
   "outputs": [],
   "source": [
    "#training_data_logic.shape\n",
    "train_cols = train.columns[1:8]"
   ]
  },
  {
   "cell_type": "code",
   "execution_count": 23,
   "metadata": {},
   "outputs": [
    {
     "name": "stdout",
     "output_type": "stream",
     "text": [
      "Optimization terminated successfully.\n",
      "         Current function value: 0.448282\n",
      "         Iterations 7\n"
     ]
    }
   ],
   "source": [
    "#Built Logistic Regression\n",
    "import statsmodels.api as sm\n",
    "\n",
    "logit = sm.Logit(train['default'], train[train_cols]).fit()"
   ]
  },
  {
   "cell_type": "code",
   "execution_count": 24,
   "metadata": {},
   "outputs": [
    {
     "name": "stderr",
     "output_type": "stream",
     "text": [
      "C:\\ProgramData\\Anaconda3\\lib\\site-packages\\ipykernel_launcher.py:2: SettingWithCopyWarning: \n",
      "A value is trying to be set on a copy of a slice from a DataFrame.\n",
      "Try using .loc[row_indexer,col_indexer] = value instead\n",
      "\n",
      "See the caveats in the documentation: http://pandas.pydata.org/pandas-docs/stable/user_guide/indexing.html#returning-a-view-versus-a-copy\n",
      "  \n"
     ]
    }
   ],
   "source": [
    "#Predict test data\n",
    "test['Actual_prob'] = logit.predict(test[train_cols])"
   ]
  },
  {
   "cell_type": "code",
   "execution_count": 25,
   "metadata": {},
   "outputs": [
    {
     "name": "stderr",
     "output_type": "stream",
     "text": [
      "C:\\ProgramData\\Anaconda3\\lib\\site-packages\\ipykernel_launcher.py:1: SettingWithCopyWarning: \n",
      "A value is trying to be set on a copy of a slice from a DataFrame.\n",
      "Try using .loc[row_indexer,col_indexer] = value instead\n",
      "\n",
      "See the caveats in the documentation: http://pandas.pydata.org/pandas-docs/stable/user_guide/indexing.html#returning-a-view-versus-a-copy\n",
      "  \"\"\"Entry point for launching an IPython kernel.\n",
      "C:\\ProgramData\\Anaconda3\\lib\\site-packages\\pandas\\core\\indexing.py:494: SettingWithCopyWarning: \n",
      "A value is trying to be set on a copy of a slice from a DataFrame.\n",
      "Try using .loc[row_indexer,col_indexer] = value instead\n",
      "\n",
      "See the caveats in the documentation: http://pandas.pydata.org/pandas-docs/stable/user_guide/indexing.html#returning-a-view-versus-a-copy\n",
      "  self.obj[item] = s\n"
     ]
    }
   ],
   "source": [
    "test['ActualVal'] = 1\n",
    "test.loc[test.Actual_prob < 0.5, 'ActualVal'] = 0"
   ]
  },
  {
   "cell_type": "code",
   "execution_count": 26,
   "metadata": {},
   "outputs": [],
   "source": [
    "#Build confusion matrix\n",
    "CM_LR = pd.crosstab(test['default'], test['ActualVal'])"
   ]
  },
  {
   "cell_type": "markdown",
   "metadata": {},
   "source": [
    "###### Decison Tree"
   ]
  },
  {
   "cell_type": "code",
   "execution_count": 27,
   "metadata": {},
   "outputs": [],
   "source": [
    "#Import Libraries for decision tree\n",
    "from sklearn import tree\n",
    "from sklearn.metrics import accuracy_score\n",
    "from sklearn.model_selection import train_test_split"
   ]
  },
  {
   "cell_type": "code",
   "execution_count": 28,
   "metadata": {},
   "outputs": [],
   "source": [
    "#Preparing data for decision tree\n",
    "bank_data_DT = pd.DataFrame(bank_data)\n",
    "\n",
    "#replace target categories with Yes or No\n",
    "bank_data_DT[\"default\"] = bank_data_DT[\"default\"].replace(0, \"no\")\n",
    "bank_data_DT[\"default\"] = bank_data_DT[\"default\"].replace(1, \"yes\") "
   ]
  },
  {
   "cell_type": "code",
   "execution_count": 29,
   "metadata": {},
   "outputs": [],
   "source": [
    "#Divide data into train and test\n",
    "X = bank_data_DT.values[:, 0:6]\n",
    "Y = bank_data_DT.values[:,6]\n",
    "\n",
    "X_train, X_test, y_train, y_test = train_test_split( X, Y, test_size = 0.3)"
   ]
  },
  {
   "cell_type": "code",
   "execution_count": 30,
   "metadata": {},
   "outputs": [],
   "source": [
    "#Decision Tree classifier\n",
    "DT_model = tree.DecisionTreeClassifier(criterion='entropy').fit(X_train, y_train)\n",
    "\n",
    "#predict new test cases\n",
    "DT_Predictions = DT_model.predict(X_test)"
   ]
  },
  {
   "cell_type": "code",
   "execution_count": 31,
   "metadata": {},
   "outputs": [],
   "source": [
    "#Build confusion matrix\n",
    "CM_DT = pd.crosstab(y_test, DT_Predictions)"
   ]
  },
  {
   "cell_type": "markdown",
   "metadata": {},
   "source": [
    "###### Random Forest"
   ]
  },
  {
   "cell_type": "code",
   "execution_count": 32,
   "metadata": {},
   "outputs": [],
   "source": [
    "#Random Forest\n",
    "from sklearn.ensemble import RandomForestClassifier\n",
    "\n",
    "RF_model = RandomForestClassifier(n_estimators = 11).fit(X_train, y_train)"
   ]
  },
  {
   "cell_type": "code",
   "execution_count": 33,
   "metadata": {},
   "outputs": [],
   "source": [
    "RF_Predictions = RF_model.predict(X_test)"
   ]
  },
  {
   "cell_type": "code",
   "execution_count": 34,
   "metadata": {},
   "outputs": [],
   "source": [
    "#build confusion matrix for RF\n",
    "CM_RF = pd.crosstab(y_test, RF_Predictions)"
   ]
  },
  {
   "cell_type": "markdown",
   "metadata": {},
   "source": [
    "###### Naive Bayes"
   ]
  },
  {
   "cell_type": "code",
   "execution_count": 35,
   "metadata": {},
   "outputs": [],
   "source": [
    "#Naive Bayes\n",
    "from sklearn.naive_bayes import GaussianNB"
   ]
  },
  {
   "cell_type": "code",
   "execution_count": 36,
   "metadata": {},
   "outputs": [],
   "source": [
    "#Naive Bayes implementation\n",
    "NB_model = GaussianNB().fit(X_train, y_train)\n",
    "\n",
    "#predict test cases\n",
    "NB_Predictions = NB_model.predict(X_test)"
   ]
  },
  {
   "cell_type": "code",
   "execution_count": 37,
   "metadata": {
    "scrolled": true
   },
   "outputs": [],
   "source": [
    "#Build confusion matrix\n",
    "CM_NB = pd.crosstab(y_test, NB_Predictions)"
   ]
  },
  {
   "cell_type": "code",
   "execution_count": 38,
   "metadata": {},
   "outputs": [],
   "source": [
    "ML_modal = [CM_LR, CM_DT, CM_RF, CM_NB]\n",
    "Modal_name = [\"Logistc Regrassion\", \"Decision Tree\", \"Random Forest\", \"Naive bayes\"]"
   ]
  },
  {
   "cell_type": "code",
   "execution_count": 39,
   "metadata": {},
   "outputs": [
    {
     "name": "stdout",
     "output_type": "stream",
     "text": [
      "\u001b[94m Logistc Regrassion \u001b[0m\n",
      " Accuracy =  71.42857142857143\n",
      " Precision  =  0.4230769230769231\n",
      " Recall   =  0.34375\n",
      " FNR =  65.625\n",
      " F1 Score =  0.3793103448275862 \n",
      "\n",
      "\u001b[94m Decision Tree \u001b[0m\n",
      " Accuracy =  70.05988023952096\n",
      " Precision  =  0.3181818181818182\n",
      " Recall   =  0.4117647058823529\n",
      " FNR =  58.8235294117647\n",
      " F1 Score =  0.358974358974359 \n",
      "\n",
      "\u001b[94m Random Forest \u001b[0m\n",
      " Accuracy =  77.24550898203593\n",
      " Precision  =  0.43333333333333335\n",
      " Recall   =  0.38235294117647056\n",
      " FNR =  61.76470588235294\n",
      " F1 Score =  0.40625 \n",
      "\n",
      "\u001b[94m Naive bayes \u001b[0m\n",
      " Accuracy =  72.45508982035928\n",
      " Precision  =  0.3695652173913043\n",
      " Recall   =  0.5\n",
      " FNR =  50.0\n",
      " F1 Score =  0.425 \n",
      "\n"
     ]
    }
   ],
   "source": [
    "#here we can see the accuracy and FNR score at one place of all of our modals\n",
    "for i, j in zip(ML_modal, Modal_name):\n",
    "    #let us save TP, TN, FP, FN\n",
    "    TN = i.iloc[0,0]\n",
    "    FN = i.iloc[1,0]\n",
    "    TP = i.iloc[1,1]\n",
    "    FP = i.iloc[0,1]\n",
    "    \n",
    "    print(\"\\033[94m\",j, \"\\033[0m\")\n",
    "    acc = ((TP+TN)*100)/(TP+TN+FP+FN)\n",
    "    print(\" Accuracy = \", acc)\n",
    "    \n",
    "    prec = (TP/(TP+FP))   \n",
    "    print(\" Precision  = \", prec)\n",
    "    \n",
    "    rcl = (TP/(TP+FN))   \n",
    "    print(\" Recall   = \", rcl)\n",
    "    \n",
    "    fp_rate = (FN*100)/(FN+TP)\n",
    "    print(\" FNR = \", fp_rate, )\n",
    "    \n",
    "    F1score = (2*prec*rcl)/(prec+rcl)\n",
    "    print(\" F1 Score = \", F1score,\"\\n\" )"
   ]
  },
  {
   "cell_type": "code",
   "execution_count": 40,
   "metadata": {},
   "outputs": [],
   "source": [
    "#  Logistc Regrassion \n",
    "#  Accuracy =  81.81818181818181\n",
    "#  FNR =  51.724137931034484 \n",
    "\n",
    "#  Decision Tree \n",
    "#  Accuracy =  75.44910179640719\n",
    "#  FNR =  60.97560975609756 \n",
    "\n",
    "#  Random Forest \n",
    "#  Accuracy =  79.64071856287426\n",
    "#  FNR =  53.65853658536585 \n",
    "\n",
    "#  Naive bayes \n",
    "#  Accuracy =  76.04790419161677\n",
    "#  FNR =  29.26829268292683 "
   ]
  }
 ],
 "metadata": {
  "kernelspec": {
   "display_name": "Python 3",
   "language": "python",
   "name": "python3"
  },
  "language_info": {
   "codemirror_mode": {
    "name": "ipython",
    "version": 3
   },
   "file_extension": ".py",
   "mimetype": "text/x-python",
   "name": "python",
   "nbconvert_exporter": "python",
   "pygments_lexer": "ipython3",
   "version": "3.7.4"
  }
 },
 "nbformat": 4,
 "nbformat_minor": 2
}
